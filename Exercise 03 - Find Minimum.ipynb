{
 "cells": [
  {
   "cell_type": "code",
   "execution_count": 2,
   "metadata": {},
   "outputs": [],
   "source": [
    "from sympy import *\n",
    "import numpy as np\n",
    "import matplotlib.pyplot as plt"
   ]
  },
  {
   "cell_type": "code",
   "execution_count": 3,
   "metadata": {
    "collapsed": true
   },
   "outputs": [],
   "source": [
    "x = Symbol('x')# x sada postaje simbolicka prom"
   ]
  },
  {
   "cell_type": "code",
   "execution_count": 4,
   "metadata": {
    "collapsed": true
   },
   "outputs": [],
   "source": [
    "y = (x-3)**2 #funkcija"
   ]
  },
  {
   "cell_type": "code",
   "execution_count": 6,
   "metadata": {
    "collapsed": true
   },
   "outputs": [],
   "source": [
    "dy = y.diff(x) #prvi izvod fje y"
   ]
  },
  {
   "cell_type": "code",
   "execution_count": 17,
   "metadata": {},
   "outputs": [
    {
     "data": {
      "text/plain": [
       "2*x - 6"
      ]
     },
     "execution_count": 17,
     "metadata": {},
     "output_type": "execute_result"
    }
   ],
   "source": [
    "dy"
   ]
  },
  {
   "cell_type": "code",
   "execution_count": 8,
   "metadata": {
    "collapsed": true
   },
   "outputs": [],
   "source": [
    "def plotF():\n",
    "    space = np.linspace(-5,5,100)\n",
    "    data = np.array([N(y.subs(x,value)) for value in space])\n",
    "    plt.plot(space, data)\n",
    "    plt.show()"
   ]
  },
  {
   "cell_type": "markdown",
   "metadata": {},
   "source": [
    "t1 = t0 - a*dy(t0)"
   ]
  },
  {
   "cell_type": "code",
   "execution_count": 9,
   "metadata": {
    "collapsed": true
   },
   "outputs": [],
   "source": [
    "t0 = 84 #pocetna tacka\n",
    "t1 = 0\n",
    "a = 0.01"
   ]
  },
  {
   "cell_type": "code",
   "execution_count": 10,
   "metadata": {
    "collapsed": true
   },
   "outputs": [],
   "source": [
    "iteracija = 0\n",
    "provera = 0\n",
    "preciznost = 1/1000000"
   ]
  },
  {
   "cell_type": "code",
   "execution_count": 11,
   "metadata": {
    "collapsed": true
   },
   "outputs": [],
   "source": [
    "plot = True\n",
    "iteracijaMaks = 10000 #najveci broj iteracija posle kojih treba da se odustane"
   ]
  },
  {
   "cell_type": "code",
   "execution_count": 12,
   "metadata": {
    "collapsed": true
   },
   "outputs": [],
   "source": [
    "divergencijaMaks = 50 #parametar za sprecavanje divergencije"
   ]
  },
  {
   "cell_type": "code",
   "execution_count": 16,
   "metadata": {},
   "outputs": [
    {
     "name": "stdout",
     "output_type": "stream",
     "text": [
      "Broj iteracija 709 t1= 3.00004872733784\n"
     ]
    },
    {
     "data": {
      "image/png": "[encoded data removed]",
      "text/plain": [
       "<matplotlib.figure.Figure at 0x195b9f0e320>"
      ]
     },
     "metadata": {},
     "output_type": "display_data"
    }
   ],
   "source": [
    "while True:\n",
    "    t1 = t0 - a*N(dy.subs(x, t0)).evalf()\n",
    "    #dy.subs direktno menja t0 da bismo izracunali dy(t0)\n",
    "    iteracija+=1 #povecaj broj iteracija\n",
    "    \n",
    "    #ako ima previse iteracija to znaci da verovatno param nisu ok\n",
    "    if iteracija>iteracijaMaks:\n",
    "        print(\"Previse iteracija\")\n",
    "        break\n",
    "    \n",
    "    #sada ide provera da li t0 > t1 ako nije onda dozvoljavamo\n",
    "    #najvise 50 divergiranja\n",
    "    if t0<t1:\n",
    "        print(\"t0 divergira\")\n",
    "        provera+=1\n",
    "        if provera>divergencijaMaks:\n",
    "            print(\"Previse iteracija (%s), t0 divergira\"%divergencijaMaks)\n",
    "            print(\"Manje a ili proveriti da li fja konvekna\")\n",
    "            plot = False\n",
    "            break\n",
    "    #sada ide uslov kojim mi zakljucujemo da t0 konvergira\n",
    "    #to je zapravo ovo t0-t1< preciznosti i tako izlazimo iz petlje\n",
    "    if abs(t0-t1)<preciznost:\n",
    "        break\n",
    "    \n",
    "    #obnavlajmo vrednost za sledecu iteracijuw\n",
    "    t0=t1\n",
    "    \n",
    "if plot:\n",
    "    print(\"Broj iteracija\",iteracija,\"t1=\",t1)\n",
    "    plt.plot(t0,N(y.subs(x,t0)).evalf(),marker='o',color='r')\n",
    "    plotF()"
   ]
  },
  {
   "cell_type": "code",
   "execution_count": null,
   "metadata": {
    "collapsed": true
   },
   "outputs": [],
   "source": []
  }
 ],
 "metadata": {
  "kernelspec": {
   "display_name": "Python 3",
   "language": "python",
   "name": "python3"
  },
  "language_info": {
   "codemirror_mode": {
    "name": "ipython",
    "version": 3
   },
   "file_extension": ".py",
   "mimetype": "text/x-python",
   "name": "python",
   "nbconvert_exporter": "python",
   "pygments_lexer": "ipython3",
   "version": "3.7.1"
  }
 },
 "nbformat": 4,
 "nbformat_minor": 2
}
