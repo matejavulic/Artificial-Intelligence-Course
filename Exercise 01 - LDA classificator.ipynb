{
 "cells": [
  {
   "cell_type": "code",
   "execution_count": 126,
   "metadata": {
    "collapsed": true
   },
   "outputs": [],
   "source": [
    "#LDA алгоритам"
   ]
  },
  {
   "cell_type": "code",
   "execution_count": 127,
   "metadata": {
    "collapsed": true
   },
   "outputs": [],
   "source": [
    "import matplotlib.pyplot as plt\n",
    "import numpy as np"
   ]
  },
  {
   "cell_type": "code",
   "execution_count": 128,
   "metadata": {},
   "outputs": [],
   "source": [
    "#Pravimo skup od 6 vektora sa dve komponente\n",
    "#Ovaj skup cemo koristiti za obucavanje\n",
    "# x - dataset"
   ]
  },
  {
   "cell_type": "code",
   "execution_count": 129,
   "metadata": {},
   "outputs": [],
   "source": [
    "x = np.array([[-1,-1],[-2,-1],[-3,-2],[1,1],[2,1],[3,2]])"
   ]
  },
  {
   "cell_type": "code",
   "execution_count": 130,
   "metadata": {},
   "outputs": [
    {
     "data": {
      "text/plain": [
       "array([[  74, 1100],\n",
       "       [  92, 1230],\n",
       "       [  85, 1300],\n",
       "       [  94, 1270],\n",
       "       [  81, 1420],\n",
       "       [ 102, 1000],\n",
       "       [ 110,  930],\n",
       "       [ 120,  800],\n",
       "       [ 118,  770],\n",
       "       [ 128,  950]])"
      ]
     },
     "execution_count": 130,
     "metadata": {},
     "output_type": "execute_result"
    }
   ],
   "source": [
    "X"
   ]
  },
  {
   "cell_type": "code",
   "execution_count": 131,
   "metadata": {
    "collapsed": true
   },
   "outputs": [],
   "source": [
    "#Pravimo vektor y. On definise pripadnost vektora iz skupa x\n",
    "# 1. ili 2. klasi. Ima 6 komponenata: za svaki pojedincani\n",
    "#vektor iz skupa x svaka pojedinacna komponenta vektora y\n",
    "#odredjuje pripadnost 1. ili 2. klasi\n",
    "#Ovde cemo da postavimo da prva tri vektora iz x pripadaju 1. ,\n",
    "#a druga tri 2. klasi."
   ]
  },
  {
   "cell_type": "code",
   "execution_count": 132,
   "metadata": {},
   "outputs": [],
   "source": [
    "y = np.array([1,1,1,1,1,2,2,2,2,2])"
   ]
  },
  {
   "cell_type": "code",
   "execution_count": 133,
   "metadata": {
    "collapsed": true
   },
   "outputs": [],
   "source": [
    "#Sada cemo da iscrtamo polozaje ,,vrhova`` vektora u koord. ravni"
   ]
  },
  {
   "cell_type": "code",
   "execution_count": 134,
   "metadata": {},
   "outputs": [
    {
     "data": {
      "image/png": "[encoded data removed]",
      "text/plain": [
       "<matplotlib.figure.Figure at 0x2013d4c3588>"
      ]
     },
     "metadata": {},
     "output_type": "display_data"
    }
   ],
   "source": [
    "#Da bismo iscrtali polozaje vektora koristimo plt.scatter\n",
    "#Posto on radi tako da je 1. arg. niz x-koordinata\n",
    "#a 2. arg. niz y-koordinata tada:\n",
    "#x[:,0] - vraca samo prvu koordinatu tj. prvu komponentu\n",
    "#[:,1] - vraca drugu komponentu\n",
    "plt.scatter(X[:5,0],X[:5,1], c=u'r')\n",
    "plt.scatter(X[5:,0],X[5:,1], c=u'b')\n",
    "plt.title(\"Обучавајући скуп\")\n",
    "plt.grid()\n",
    "plt.show()"
   ]
  },
  {
   "cell_type": "code",
   "execution_count": 135,
   "metadata": {},
   "outputs": [],
   "source": [
    "#Na primer ako sacinimo skup sa trokomponentnim vektorima:\n",
    "xx=np.array([[1,2,3],[1,2,3],[1,2,3]])"
   ]
  },
  {
   "cell_type": "code",
   "execution_count": 136,
   "metadata": {},
   "outputs": [
    {
     "name": "stdout",
     "output_type": "stream",
     "text": [
      "[1 1 1]\n",
      "[2 2 2]\n",
      "[3 3 3]\n"
     ]
    }
   ],
   "source": [
    "#Za ispis samo prvih komponenti:\n",
    "print(xx[:,0])\n",
    "#Za ispis samo drugih komponenti:\n",
    "print(xx[:,1])\n",
    "#Za ispis samo trecih komponenti:\n",
    "print(xx[:,2])"
   ]
  },
  {
   "cell_type": "code",
   "execution_count": 137,
   "metadata": {
    "collapsed": true
   },
   "outputs": [],
   "source": [
    "#Сада треба да уз помоћ LDA алгоритма извршимо машинско обучавање\n",
    "#уз помоћ скупа за обучавање\n",
    "#Зато увозимо следећу библиотеку:\n",
    "import sklearn.discriminant_analysis as sda"
   ]
  },
  {
   "cell_type": "code",
   "execution_count": 138,
   "metadata": {
    "collapsed": true
   },
   "outputs": [],
   "source": [
    "#Променљива klasifikator постаје LDA класификатор (објекат) \n",
    "klasifikator = sda.LinearDiscriminantAnalysis()"
   ]
  },
  {
   "cell_type": "code",
   "execution_count": 139,
   "metadata": {},
   "outputs": [
    {
     "data": {
      "text/plain": [
       "sklearn.discriminant_analysis.LinearDiscriminantAnalysis"
      ]
     },
     "execution_count": 139,
     "metadata": {},
     "output_type": "execute_result"
    }
   ],
   "source": [
    "type(klasifikator)"
   ]
  },
  {
   "cell_type": "code",
   "execution_count": 140,
   "metadata": {},
   "outputs": [
    {
     "data": {
      "text/plain": [
       "LinearDiscriminantAnalysis(n_components=None, priors=None, shrinkage=None,\n",
       "              solver='svd', store_covariance=False, tol=0.0001)"
      ]
     },
     "execution_count": 140,
     "metadata": {},
     "output_type": "execute_result"
    }
   ],
   "source": [
    "#Сада треба да обучимо класификатор klasifikator подацима из \n",
    "#обучавајућег скупа:\n",
    "klasifikator.fit(X,y)"
   ]
  },
  {
   "cell_type": "code",
   "execution_count": 141,
   "metadata": {},
   "outputs": [
    {
     "data": {
      "text/plain": [
       "(10, 2)"
      ]
     },
     "execution_count": 141,
     "metadata": {},
     "output_type": "execute_result"
    }
   ],
   "source": [
    "#x нам је у суштини матрица\n",
    "X.shape"
   ]
  },
  {
   "cell_type": "code",
   "execution_count": 142,
   "metadata": {},
   "outputs": [
    {
     "data": {
      "text/plain": [
       "(10, 2)"
      ]
     },
     "execution_count": 142,
     "metadata": {},
     "output_type": "execute_result"
    }
   ],
   "source": [
    "# а y низ\n",
    "X.shape"
   ]
  },
  {
   "cell_type": "code",
   "execution_count": 171,
   "metadata": {},
   "outputs": [
    {
     "data": {
      "text/plain": [
       "array([ 1.,  2.,  1.,  2.,  2.,  1.,  1.,  2.])"
      ]
     },
     "execution_count": 171,
     "metadata": {},
     "output_type": "execute_result"
    }
   ],
   "source": [
    "#Сада треба да тестирамо наш класификатор при чему смо подесили\n",
    "#да у обучавајућем скупу важи 1. класа -> komponenta1,2<0\n",
    "#2. класа -> komponenta1,2>0\n",
    "#Правимо низ x_test у који смештамо векторе за класификацију\n",
    "# а у klas смештамо класе у које је klasifikator разместио\n",
    "#векторе из x_test\n",
    "\n",
    "x_test=np.array([[-4,-4],[5,5],[-2,-6],[3,7],[-4,7],[4,-7],[0,0],[-3,6]])\n",
    "klasifikator.predict(x_test)"
   ]
  },
  {
   "cell_type": "code",
   "execution_count": 173,
   "metadata": {},
   "outputs": [
    {
     "data": {
      "text/plain": [
       "array([-4, -4])"
      ]
     },
     "execution_count": 173,
     "metadata": {},
     "output_type": "execute_result"
    }
   ],
   "source": [
    "x_test[0]"
   ]
  },
  {
   "cell_type": "code",
   "execution_count": 174,
   "metadata": {},
   "outputs": [
    {
     "data": {
      "image/png": "[encoded data removed]",
      "text/plain": [
       "<matplotlib.figure.Figure at 0x2013de046a0>"
      ]
     },
     "metadata": {},
     "output_type": "display_data"
    }
   ],
   "source": [
    "plt.scatter(x_test[:,0],x_test[:,1],c=u\"r\")\n",
    "plt.scatter(X[:,0],X[:,1],c=u\"b\")\n",
    "plt.scatter\n",
    "plt.title(\"Огледни скуп +  Обучавајући скуп\")\n",
    "plt.axvline(x=0, color='g', linestyle='dotted')\n",
    "plt.axhline(y=0, color='g', linestyle='dotted')\n",
    "plt.xlim(-8,8)\n",
    "plt.ylim(-8,8)\n",
    "plt.grid()\n",
    "plt.show()"
   ]
  },
  {
   "cell_type": "code",
   "execution_count": 147,
   "metadata": {
    "collapsed": true
   },
   "outputs": [],
   "source": [
    "#Класификација 2 класе са мултиваријационом нормалном расподелом"
   ]
  },
  {
   "cell_type": "code",
   "execution_count": 148,
   "metadata": {
    "collapsed": true
   },
   "outputs": [],
   "source": [
    "#Cilj nam je isti kao i u  prethodnom slucaju\n",
    "#Zelimo da nasumicno generisemo dva skupa tacaka\n",
    "#koncetrisanih u 1. i 3. kvadrantu\n",
    "#Za 1. kvadrant biramo da srediste rasturanja bude u tacki mean1=[0,0] (2D raspodela!)\n",
    "# a za 3. kvadrant da to bude tacka mean2=[2,2]"
   ]
  },
  {
   "cell_type": "code",
   "execution_count": 149,
   "metadata": {
    "collapsed": true
   },
   "outputs": [],
   "source": [
    "#Definisanje 1. klase"
   ]
  },
  {
   "cell_type": "code",
   "execution_count": 150,
   "metadata": {
    "collapsed": true
   },
   "outputs": [],
   "source": [
    "#Da bismo definisali 2D normalnu raspodelu treba da definisemo odgovarajuce parametre\n",
    "mean1 = [0,0] #multivarijantna srednja vrednost --> srednja vrednost 1D Normalne raspodele\n",
    "cov1 = [[1,-0.5],[-0.5,1]] # kovarijansa (2D odstupanje) -->standardno odstupanje 1D Norm. rasp.\n",
    "# kovarijansa je ovde matrica koja mora da bude simetricna i pozitivna-semidefinitna???\n",
    "#Zato, nasumicno generisanu 2D raspodelu smestamo u x1 i y1 jer je 2D i potom je transponujemo:\n",
    "broj_uzoraka1 = 500\n",
    "broj_uzoraka2 = 100\n",
    "#Sada deifinisemo obucavajuci 2D skup x1,y1\n",
    "#i potom ogledni skup x1_ogl,y1_ogl\n",
    "x1_obuc,y1_obuc = np.random.multivariate_normal(mean1,cov1,broj_uzoraka1).T\n",
    "x1_ogl,y1_ogl = np.random.multivariate_normal(mean1,cov1,broj_uzoraka2).T"
   ]
  },
  {
   "cell_type": "code",
   "execution_count": 151,
   "metadata": {},
   "outputs": [],
   "source": [
    "#deifnisanje 2. klase\n",
    "mean2=[2,2] #koordinate sredista rasturanja\n",
    "cov2=[[1,-0.8],[-0.8,1]] #standardno odstupanje\n",
    "x2_obuc,y2_obuc = np.random.multivariate_normal(mean2,cov2,broj_uzoraka1).T\n",
    "x2_ogl,y2_ogl = np.random.multivariate_normal(mean2,cov2,broj_uzoraka2).T"
   ]
  },
  {
   "cell_type": "code",
   "execution_count": 152,
   "metadata": {},
   "outputs": [
    {
     "data": {
      "image/png": "[encoded data removed]",
      "text/plain": [
       "<matplotlib.figure.Figure at 0x2013de44e48>"
      ]
     },
     "metadata": {},
     "output_type": "display_data"
    }
   ],
   "source": [
    "plt.title(\"Расподела случајних променљивих\")\n",
    "plt.scatter(x1_ogl,y1_ogl,c=u\"r\")#ogledni skup kl. 1.\n",
    "plt.scatter(x2_ogl,y2_ogl,c=u\"y\")#ogledni skup kl. 2.\n",
    "plt.scatter(x1_obuc,y1_obuc,c=u\"g\")#obucavajuci skup kl. 1.\n",
    "plt.scatter(x2_obuc,y2_obuc,c=u\"b\")#obucavajuci skup kl. 2.\n",
    "#line, = plt.plot([1, 2, 1], label='Inline label')\n",
    "#plt.legend()\n",
    "plt.show()"
   ]
  },
  {
   "cell_type": "code",
   "execution_count": 153,
   "metadata": {},
   "outputs": [],
   "source": [
    "#Sada imamo definisane 2 klase i to po jednu klasu sa 500 elemenata za obucavanje i po jednu klasu sa 100 \n",
    "#elemenata za testiranje (unutar svake od ovih dveju klasa).\n",
    "#Naredbom klasifikator.fit(x,y) kazujemo klasifikatoru klasifikator da na osnovu ulaznih parametara\n",
    "#iz x izvrsi predvidjanje pripadnosti odredjenoj klasi i da predvidjanje upise u y.\n",
    "#Dakle mi treba da ove dve klase spojimo u jednu veliku matricu, odredimo joj velicinu tj.\n",
    "#broj uzoraka koje treba predvideti i na osnovu toga odredimo velicinu vektora y."
   ]
  },
  {
   "cell_type": "code",
   "execution_count": 154,
   "metadata": {
    "collapsed": true
   },
   "outputs": [],
   "source": [
    "#Prvo treba da obucimo nas klasifikator klasifikator. Stoga\n",
    "# spajamo nasumicno generisane vrednosti iz x1 i y1.\n",
    "#Posto su u pitanju 2D raspodele prvo vodoravno spajamo \n",
    "#x1_obuc iz klase 1 i x2_obuc iz klase 2 (x-koordinata).\n",
    "#Potom isto radimo za y1 i y2. \n",
    "#Konacno X i Y spajamo uspravno u XX_obuc.\n",
    "#Naredba np.hstack vodoravno spaja dve matrice u jednu.\n",
    "#Naredba np.hstack spaja uspravno dve matrice u jednu.\n",
    "\n",
    "X_obuc = np.hstack([x1_obuc,x2_obuc]) \n",
    "Y_obuc = np.hstack([y1_obuc,y2_obuc])\n",
    "XX_obuc = np.vstack([X_obuc,Y_obuc]).T\n",
    "\n",
    "#Na kraju sve transponujemo (verovatno zbog definicije samog klasifikatora klasifikator)"
   ]
  },
  {
   "cell_type": "code",
   "execution_count": 155,
   "metadata": {},
   "outputs": [],
   "source": [
    "#Isto cinimo i za nas test skup XX_ogl"
   ]
  },
  {
   "cell_type": "code",
   "execution_count": 156,
   "metadata": {},
   "outputs": [],
   "source": [
    "X_ogl = np.hstack([x1_ogl,x2_ogl]) \n",
    "Y_ogl = np.hstack([y1_ogl,y2_ogl])\n",
    "XX_ogl = np.vstack([X_ogl,Y_ogl]).T"
   ]
  },
  {
   "cell_type": "code",
   "execution_count": 157,
   "metadata": {
    "collapsed": true
   },
   "outputs": [],
   "source": [
    "#Sada cemo ponovo da iscrtamo nase promenljive"
   ]
  },
  {
   "cell_type": "code",
   "execution_count": 158,
   "metadata": {},
   "outputs": [
    {
     "data": {
      "image/png": "[encoded data removed]",
      "text/plain": [
       "<matplotlib.figure.Figure at 0x2013d381550>"
      ]
     },
     "metadata": {},
     "output_type": "display_data"
    }
   ],
   "source": [
    "#MATRICA KOLONA: [a11 a12 a13]\n",
    "\n",
    "#MATRICA VRSTA: | a11 |\n",
    "#               | a21 |\n",
    "#               | a31 |\n",
    "\n",
    "plt.scatter(XX_obuc[0:500,0],XX_obuc[0:500,1],c=u'g')\n",
    "#Za x koordinate uzmi elemente od 0 do 500 iz prve kolone [x1_obuc]\n",
    "#Za y koordinate uzmi elemente od 0 do 500 iz druge kolone [y1_obuc]\n",
    "\n",
    "plt.scatter(XX_obuc[500:1000,0],XX_obuc[500:1000,1],c=u'c')\n",
    "#Za x koordinate uzmi elemente od 500 do 1000 iz prve kolone [x2_obuc]\n",
    "#Za y koordinate uzmi elemente od 0 do 500 iz druge kolone [y2_obuc]\n",
    "\n",
    "plt.title(\"Скуп за обучавање\")\n",
    "plt.show()"
   ]
  },
  {
   "cell_type": "code",
   "execution_count": 159,
   "metadata": {
    "collapsed": true
   },
   "outputs": [],
   "source": [
    "#Na isti nacin mozemo da iscrtamo nas skup za ogled (testiranje)"
   ]
  },
  {
   "cell_type": "code",
   "execution_count": 160,
   "metadata": {},
   "outputs": [
    {
     "data": {
      "image/png": "[encoded data removed]",
      "text/plain": [
       "<matplotlib.figure.Figure at 0x2013d3f8be0>"
      ]
     },
     "metadata": {},
     "output_type": "display_data"
    }
   ],
   "source": [
    "plt.scatter(XX_ogl[0:100,0],XX_ogl[0:100,1],c=u'r') #x1_ogl\n",
    "plt.scatter(XX_ogl[100:200,0],XX_ogl[100:200,1],c=u'b') #x2_ogl\n",
    "plt.title(\"Огледни скуп\")\n",
    "plt.show()"
   ]
  },
  {
   "cell_type": "code",
   "execution_count": 161,
   "metadata": {},
   "outputs": [],
   "source": [
    "#Definisemo niz od 500 jedinica i 500 dvojki kojim obucavamo klasifikator klasifikator\n",
    "y_obucavanje = np.ones(1000)\n",
    "y_obucavanje[500:] = 2 "
   ]
  },
  {
   "cell_type": "code",
   "execution_count": 162,
   "metadata": {},
   "outputs": [
    {
     "data": {
      "text/plain": [
       "LinearDiscriminantAnalysis(n_components=None, priors=None, shrinkage=None,\n",
       "              solver='svd', store_covariance=False, tol=0.0001)"
      ]
     },
     "execution_count": 162,
     "metadata": {},
     "output_type": "execute_result"
    }
   ],
   "source": [
    "#Obucavamo klasifikator klasifikator\n",
    "klasifikator.fit(XX_obuc,y_obucavanje)"
   ]
  },
  {
   "cell_type": "code",
   "execution_count": 163,
   "metadata": {},
   "outputs": [
    {
     "data": {
      "image/png": "[encoded data removed]",
      "text/plain": [
       "<matplotlib.figure.Figure at 0x2013c7670f0>"
      ]
     },
     "metadata": {},
     "output_type": "display_data"
    }
   ],
   "source": [
    "#I zatim vrsimo predvidjanje\n",
    "y_predvidjanje = np.zeros(200)\n",
    "y_predvidjanje = klasifikator.predict(XX_ogl)\n",
    "plt.stem(y_predvidjanje)\n",
    "plt.show()\n",
    "#Vidimo da je klasifikator kalsifikator napravio greske prilikom predivdjanja."
   ]
  },
  {
   "cell_type": "code",
   "execution_count": 164,
   "metadata": {},
   "outputs": [
    {
     "name": "stdout",
     "output_type": "stream",
     "text": [
      "Тачност класификатора klasifikator је:  99.0 %\n"
     ]
    }
   ],
   "source": [
    "y_obucavanje_ogl = np.ones(200)\n",
    "y_obucavanje_ogl[100:] = 2\n",
    "\n",
    "#Stoga sracujnamo tacnost:\n",
    "print(\"Тачност класификатора klasifikator је: \",(sum(y_obucavanje_ogl == y_predvidjanje)/len(y_predvidjanje))*100, \"%\")"
   ]
  },
  {
   "cell_type": "code",
   "execution_count": 165,
   "metadata": {},
   "outputs": [],
   "source": [
    "w = klasifikator.coef_[0] #[0] dodajemo kako bi w bio broj a ne matrica"
   ]
  },
  {
   "cell_type": "code",
   "execution_count": 166,
   "metadata": {},
   "outputs": [],
   "source": [
    "k =  -w[0] /w[1] #racunamo koeficijent pravca prace iz parametra .coef -Im/Re = tg(x) = k"
   ]
  },
  {
   "cell_type": "code",
   "execution_count": 167,
   "metadata": {},
   "outputs": [],
   "source": [
    "xx = np.linspace(-5,5) #definisemo x-osu za liniju razgranicenja"
   ]
  },
  {
   "cell_type": "code",
   "execution_count": 168,
   "metadata": {},
   "outputs": [],
   "source": [
    "yy = k* xx - (klasifikator.intercept_[0])/w[1] #y = k*x + n"
   ]
  },
  {
   "cell_type": "code",
   "execution_count": 169,
   "metadata": {},
   "outputs": [
    {
     "data": {
      "image/png": "[encoded data removed]",
      "text/plain": [
       "<matplotlib.figure.Figure at 0x2013dc4de10>"
      ]
     },
     "metadata": {},
     "output_type": "display_data"
    }
   ],
   "source": [
    "plt.plot(xx,yy, 'k')\n",
    "plt.scatter(XX_ogl[0:100,0],XX_ogl[0:100,1],c=u'r') #x1_ogl\n",
    "plt.scatter(XX_ogl[100:200,0],XX_ogl[100:200,1],c=u'b') #x2_ogl\n",
    "plt.title(\"Линија разграничења за огледни скуп\")\n",
    "plt.show()"
   ]
  }
 ],
 "metadata": {
  "kernelspec": {
   "display_name": "Python 3",
   "language": "python",
   "name": "python3"
  },
  "language_info": {
   "codemirror_mode": {
    "name": "ipython",
    "version": 3
   },
   "file_extension": ".py",
   "mimetype": "text/x-python",
   "name": "python",
   "nbconvert_exporter": "python",
   "pygments_lexer": "ipython3",
   "version": "3.7.1"
  }
 },
 "nbformat": 4,
 "nbformat_minor": 2
}
