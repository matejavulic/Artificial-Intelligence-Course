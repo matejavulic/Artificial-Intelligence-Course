{
 "cells": [
  {
   "cell_type": "code",
   "execution_count": 1,
   "metadata": {},
   "outputs": [],
   "source": [
    "import numpy as np\n",
    "import matplotlib.pyplot as plt"
   ]
  },
  {
   "cell_type": "code",
   "execution_count": 2,
   "metadata": {
    "collapsed": true
   },
   "outputs": [],
   "source": [
    "# Model NM:\n",
    "# ulazni sloj  n[0]=nx = 2\n",
    "# skriveni sloj: n[1]=nh = 4\n",
    "# izlazni sloj: n[2]=ny = 1"
   ]
  },
  {
   "cell_type": "code",
   "execution_count": 3,
   "metadata": {},
   "outputs": [],
   "source": [
    "# Ulazni podaci sa klasama\n",
    "\n",
    "x1 = np.random.randn(2000)-1\n",
    "x2 = np.random.randn(2000)*2+1\n",
    "X = np.concatenate([[x1,x2]], axis=1).T"
   ]
  },
  {
   "cell_type": "code",
   "execution_count": 4,
   "metadata": {
    "collapsed": true
   },
   "outputs": [],
   "source": [
    "# klase (0,1)\n",
    "y = np.hstack([np.zeros(1000), np.ones(1000)]) # (m,) - niz ranga 1\n",
    "X = X.T\n",
    "Y = y.reshape(1,-1)"
   ]
  },
  {
   "cell_type": "code",
   "execution_count": 5,
   "metadata": {},
   "outputs": [],
   "source": [
    "# skriveni sloj\n",
    "W1 = np.random.randn(4,2)*0.003\n",
    "b1 = np.random.randn(4,1) "
   ]
  },
  {
   "cell_type": "code",
   "execution_count": 6,
   "metadata": {
    "collapsed": true
   },
   "outputs": [],
   "source": [
    "# izlazni sloj\n",
    "W2 = np.random.randn(1,4)*0.003 \n",
    "b2 = np.random.randn(1,1)"
   ]
  },
  {
   "cell_type": "code",
   "execution_count": 7,
   "metadata": {},
   "outputs": [],
   "source": [
    "m = X.shape[1]"
   ]
  },
  {
   "cell_type": "code",
   "execution_count": 8,
   "metadata": {
    "collapsed": true
   },
   "outputs": [],
   "source": [
    "def relu(x):\n",
    "    return x*(x>0)\n",
    "def drelu(x):\n",
    "    return 1*(x>0)\n",
    "def sigmo(x):\n",
    "    return 1/(1+np.exp(-x))"
   ]
  },
  {
   "cell_type": "code",
   "execution_count": 10,
   "metadata": {},
   "outputs": [],
   "source": [
    "iterations = 20000\n",
    "alpha = 0.001\n",
    "\n",
    "J_arr = np.zeros(iterations)\n",
    "\n",
    "W1_arr = np.zeros((4,iterations))\n",
    "b1_arr = np.zeros((4,iterations))\n",
    "\n",
    "W2_arr = np.zeros((1,iterations))\n",
    "b2_arr = np.zeros((1,iterations))\n",
    "\n",
    "for i in range(iterations):\n",
    "\n",
    "    # forvard propagaicja\n",
    "    Z1 = np.dot(W1,X)+b1\n",
    "    A1 = relu(Z1)\n",
    "    Z2 = np.dot(W2,A1)+b2\n",
    "    A2 = sigmo(Z2)\n",
    "\n",
    "    # bek propagacija\n",
    "    dz2 = A2-Y\n",
    "    dw2 = 1/m*np.dot(dz2,A1.T)\n",
    "    db2 = 1/m*np.sum(dz2, axis=1, keepdims=True) # keepdims - sprecava Pajton da izbaci niz ranga 1 (n,)\n",
    "    W2 = W2-alpha*dw2\n",
    "    b2 = b2-alpha*db2\n",
    "    dz1 = W2.T*dz2*drelu(Z1)\n",
    "    dw1 = 1/m*np.dot(dz1,X.T)\n",
    "    db1 = 1/m*np.sum(dz1, axis=1, keepdims=True)\n",
    "\n",
    "    W1 = W1-alpha*dw1\n",
    "    b1 = b1-alpha*db1\n",
    "    "
   ]
  }
 ],
 "metadata": {
  "kernelspec": {
   "display_name": "Python 3",
   "language": "python",
   "name": "python3"
  },
  "language_info": {
   "codemirror_mode": {
    "name": "ipython",
    "version": 3
   },
   "file_extension": ".py",
   "mimetype": "text/x-python",
   "name": "python",
   "nbconvert_exporter": "python",
   "pygments_lexer": "ipython3",
   "version": "3.7.1"
  }
 },
 "nbformat": 4,
 "nbformat_minor": 2
}
