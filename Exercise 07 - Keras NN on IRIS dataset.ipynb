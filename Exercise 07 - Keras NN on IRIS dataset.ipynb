{
 "cells": [
  {
   "cell_type": "code",
   "execution_count": 1,
   "metadata": {},
   "outputs": [
    {
     "name": "stderr",
     "output_type": "stream",
     "text": [
      "Using TensorFlow backend.\n"
     ]
    }
   ],
   "source": [
    "import numpy as np\n",
    "import matplotlib.pyplot as plt\n",
    "import keras as ka"
   ]
  },
  {
   "cell_type": "code",
   "execution_count": 2,
   "metadata": {},
   "outputs": [],
   "source": [
    "#Ucitavanje skupa podataka\n",
    "from sklearn.datasets import load_iris  \n",
    "podaci = load_iris()"
   ]
  },
  {
   "cell_type": "code",
   "execution_count": 19,
   "metadata": {},
   "outputs": [],
   "source": [
    "#Pravljenje skupa za obcuavanje i ispitivanje kao i ucitavanje podataka\n",
    "ind = np.arange(len(podaci.data))\n",
    "np.random.shuffle(ind)\n",
    "\n",
    "X_obuc = podaci.data[ind[:120]]\n",
    "y_obuc = podaci.target[ind[:120]]\n",
    "X_ispit = podaci.data[ind[120:]]\n",
    "y_ispit = podaci.target[ind[120:]]"
   ]
  },
  {
   "cell_type": "code",
   "execution_count": 5,
   "metadata": {},
   "outputs": [],
   "source": [
    "#Posto treba da imamo 3 izlazna neurona -> enkodiranje 0,1,2 -> 100,010,001\n",
    "from sklearn.preprocessing import LabelEncoder\n",
    "enkodovano = LabelEncoder()"
   ]
  },
  {
   "cell_type": "code",
   "execution_count": 6,
   "metadata": {
    "collapsed": true
   },
   "outputs": [],
   "source": [
    "#Obucavamo enkoder i transformisemo podatke tako da mozemo da ih koristimo za 3 neurona\n",
    "y_obuc_enk  = enkodovano.fit_transform(y_obuc)"
   ]
  },
  {
   "cell_type": "code",
   "execution_count": 7,
   "metadata": {},
   "outputs": [],
   "source": [
    "#Pretvaramo u binarni zapis\n",
    "from keras.utils import to_categorical\n",
    "y_obuc_dami = to_categorical(y_obuc)"
   ]
  },
  {
   "cell_type": "code",
   "execution_count": 8,
   "metadata": {
    "collapsed": true
   },
   "outputs": [],
   "source": [
    "#Stvaramo model NM"
   ]
  },
  {
   "cell_type": "code",
   "execution_count": 9,
   "metadata": {
    "collapsed": true
   },
   "outputs": [],
   "source": [
    "from keras.models import Sequential\n",
    "from keras.layers import Dense\n",
    "import keras"
   ]
  },
  {
   "cell_type": "code",
   "execution_count": 10,
   "metadata": {},
   "outputs": [],
   "source": [
    "def osnovni_model():\n",
    "    model = Sequential()\n",
    "    model.add(keras.layers.Dense(12,input_dim = 4, activation='relu'))\n",
    "    model.add(keras.layers.Dense(3,activation = 'softmax'))\n",
    "    #kompajliranje modela\n",
    "    model.compile(loss='categorical_crossentropy',optimizer=\"adam\", metrics=['accuracy'])\n",
    "    return model"
   ]
  },
  {
   "cell_type": "code",
   "execution_count": 11,
   "metadata": {
    "collapsed": true
   },
   "outputs": [],
   "source": [
    "#Uvoz Keras klasifikatora tj. estimatora"
   ]
  },
  {
   "cell_type": "code",
   "execution_count": 12,
   "metadata": {
    "collapsed": true
   },
   "outputs": [],
   "source": [
    "from keras.wrappers.scikit_learn import KerasClassifier"
   ]
  },
  {
   "cell_type": "code",
   "execution_count": 13,
   "metadata": {},
   "outputs": [],
   "source": [
    "estimator = KerasClassifier(build_fn=osnovni_model,epochs=200,batch_size=10,verbose=0)"
   ]
  },
  {
   "cell_type": "code",
   "execution_count": 14,
   "metadata": {
    "collapsed": true
   },
   "outputs": [],
   "source": [
    "#Ucitavanje mesaca niza koji se koristi za ispitivanje NM\n",
    "from sklearn.model_selection import KFold\n",
    "from sklearn.model_selection import cross_val_score"
   ]
  },
  {
   "cell_type": "code",
   "execution_count": 15,
   "metadata": {},
   "outputs": [
    {
     "name": "stdout",
     "output_type": "stream",
     "text": [
      "Прецизност износи: 86.66666547457376 % а стандардно одступање је: 0.04714043522036376\n"
     ]
    }
   ],
   "source": [
    "kFold = KFold(n_splits = 3,shuffle = True)\n",
    "rez = cross_val_score(estimator,X_obuc,y_obuc_dami,cv = kFold)\n",
    "print(\"Прецизност износи:\",rez.mean()*100,\"%\",\"а стандардно одступање је:\",rez.std())"
   ]
  },
  {
   "cell_type": "code",
   "execution_count": 16,
   "metadata": {},
   "outputs": [],
   "source": [
    "#Obuka NM"
   ]
  },
  {
   "cell_type": "code",
   "execution_count": 17,
   "metadata": {},
   "outputs": [
    {
     "data": {
      "text/plain": [
       "<keras.callbacks.History at 0x1bf7f18af98>"
      ]
     },
     "execution_count": 17,
     "metadata": {},
     "output_type": "execute_result"
    }
   ],
   "source": [
    "estimator.fit(X_obuc,y_obuc_enk)"
   ]
  },
  {
   "cell_type": "code",
   "execution_count": 25,
   "metadata": {},
   "outputs": [],
   "source": [
    "#Ispitivanje NM\n",
    "y_predvidjeno = estimator.predict(X_ispit)"
   ]
  },
  {
   "cell_type": "code",
   "execution_count": 26,
   "metadata": {},
   "outputs": [
    {
     "name": "stdout",
     "output_type": "stream",
     "text": [
      "Тачност НМ износи: 83.33333333333334 %.\n"
     ]
    }
   ],
   "source": [
    "print(\"Тачност НМ износи:\",sum(y_ispit == y_predvidjeno)/len(y_ispit)*100,\"%.\")"
   ]
  }
 ],
 "metadata": {
  "kernelspec": {
   "display_name": "Python 3",
   "language": "python",
   "name": "python3"
  },
  "language_info": {
   "codemirror_mode": {
    "name": "ipython",
    "version": 3
   },
   "file_extension": ".py",
   "mimetype": "text/x-python",
   "name": "python",
   "nbconvert_exporter": "python",
   "pygments_lexer": "ipython3",
   "version": "3.7.1"
  }
 },
 "nbformat": 4,
 "nbformat_minor": 2
}
